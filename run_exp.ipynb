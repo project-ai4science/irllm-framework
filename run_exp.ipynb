{
 "cells": [
  {
   "cell_type": "code",
   "execution_count": 4,
   "metadata": {},
   "outputs": [
    {
     "name": "stdout",
     "output_type": "stream",
     "text": [
      "{'verdict': 'yes', 'reason': 'the reason that henry is smart is that....'}\n",
      "{'verdict': True, 'reason': 'the reason that henry is smart is that....'}\n"
     ]
    }
   ],
   "source": [
    "import re\n",
    "\n",
    "s = \"This is some nosise ,dsfdcc Your verdict: yes; Your reason: the reason that henry is smart is that....\"\n",
    "\n",
    "# This regex uses named capture groups for verdict and reason.\n",
    "pattern = r\"Your verdict:\\s*(?P<verdict>Yes|No)\\s*;\\s*Your reason:\\s*(?P<reason>.+)\"\n",
    "\n",
    "match = re.search(pattern, s, re.IGNORECASE)\n",
    "if match:\n",
    "    data = match.groupdict()\n",
    "\n",
    "    print(data)\n",
    "    # Map verdict values to boolean\n",
    "    verdict_mapping = {\"yes\": True, \"no\": False}\n",
    "    # Convert verdict to lowercase to match our mapping keys\n",
    "    data[\"verdict\"] = verdict_mapping.get(data[\"verdict\"].lower())\n",
    "    # Optionally, strip any extra spaces from the reason text\n",
    "    data[\"reason\"] = data[\"reason\"].strip()\n",
    "    print(data)\n",
    "else:\n",
    "    print(\"No match found.\")"
   ]
  }
 ],
 "metadata": {
  "kernelspec": {
   "display_name": "base",
   "language": "python",
   "name": "python3"
  },
  "language_info": {
   "codemirror_mode": {
    "name": "ipython",
    "version": 3
   },
   "file_extension": ".py",
   "mimetype": "text/x-python",
   "name": "python",
   "nbconvert_exporter": "python",
   "pygments_lexer": "ipython3",
   "version": "3.9.12"
  }
 },
 "nbformat": 4,
 "nbformat_minor": 2
}
