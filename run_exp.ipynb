{
 "cells": [
  {
   "cell_type": "markdown",
   "metadata": {},
   "source": [
    "### Experiment Code for IDR Indentification, Classification, and Recommendation"
   ]
  },
  {
   "cell_type": "code",
   "execution_count": null,
   "metadata": {},
   "outputs": [],
   "source": [
    "from tasks import TaskHandler\n",
    "from evaluation_v2 import Evaluator\n",
    "from utils import load_config\n",
    "\n",
    "\n",
    "# if you want to change model params, logprob, output paths, etc. go to config.yml\n",
    "config_path = './config.yml'\n",
    "CONFIG = load_config(config_path)\n",
    "task_config = CONFIG['task_config']\n",
    "\n",
    "# user decide which exp to run\n",
    "exp_tasks = [\"identification\", \"classification\", \"recommendation\", \"generation\", \"output_evaluation\"]\n",
    "current_task = exp_tasks[0]\n",
    "eval_type = None\n",
    "provider, model_name = \"gpt\", \"gpt-4o-mini-2024-07-18\"\n",
    "\n",
    "# map the args to actual task\n",
    "if current_task == \"output_evaluation\":\n",
    "    eval_type = eval_type\n",
    "    evaluator = Evaluator(type=eval_type)\n",
    "else:\n",
    "    # task_handler = TaskHandler(provider=args.provider, model_name=args.model_name, lm_config_path=config_path, save_path=save_path, **task_config)\n",
    "    task_handler = TaskHandler(provider=provider, model_name=model_name, lm_config_path=config_path, **task_config)\n",
    "    task_func = task_handler[current_task]\n",
    "    task_func()"
   ]
  }
 ],
 "metadata": {
  "kernelspec": {
   "display_name": "base",
   "language": "python",
   "name": "python3"
  },
  "language_info": {
   "codemirror_mode": {
    "name": "ipython",
    "version": 3
   },
   "file_extension": ".py",
   "mimetype": "text/x-python",
   "name": "python",
   "nbconvert_exporter": "python",
   "pygments_lexer": "ipython3",
   "version": "3.9.12"
  }
 },
 "nbformat": 4,
 "nbformat_minor": 2
}
