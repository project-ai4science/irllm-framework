{
 "cells": [
  {
   "cell_type": "code",
   "execution_count": 48,
   "metadata": {},
   "outputs": [],
   "source": [
    "import pandas as pd\n",
    "import numpy as np\n",
    "import os\n",
    "from functools import partial\n",
    "import re"
   ]
  },
  {
   "cell_type": "code",
   "execution_count": 29,
   "metadata": {},
   "outputs": [
    {
     "name": "stdout",
     "output_type": "stream",
     "text": [
      "0      False\n",
      "1      False\n",
      "2      False\n",
      "3      False\n",
      "4      False\n",
      "       ...  \n",
      "995    False\n",
      "996    False\n",
      "997    False\n",
      "998    False\n",
      "999    False\n",
      "Name: y_true, Length: 1000, dtype: bool\n"
     ]
    }
   ],
   "source": [
    "path = 'data'\n",
    "experiment_data = {\n",
    "    'exp_1': ['data_D1.pkl'],\n",
    "    'exp_2': ['data_D2.pkl', 'data_D3.pkl', 'data_D4.pkl'],\n",
    "    'exp_3': ['data_D5.pkl', 'data_D6.pkl'],\n",
    "}\n",
    "\n",
    "# handle experiment 1 reformat:\n",
    "files = experiment_data['exp_1']\n",
    "for file in files:\n",
    "    df = pd.read_pickle('/'.join([path, file]))\n",
    "    rename_mapping = {\"a_text\": \"a_abstract\", \"b_text\": \"b_abstract\", \"c_text\": \"c_abstract\"}\n",
    "    df.rename(columns=rename_mapping, inplace=True)\n",
    "    df[\"a_title\"] = np.nan\n",
    "    df[\"b_title\"] = np.nan\n",
    "    df[\"c_title\"] = np.nan\n",
    "    df['y_true'] = df['y_true'].values\n",
    "\n",
    "    print(df['y_true'])\n",
    "    columns_to_keep = ['id', 'title', 'abstract', 'categories', 'authors', 'date', 'research_type', 'y_true']\n",
    "    df = df[columns_to_keep]\n",
    "    # df.to_csv('data_exp_1.csv', index=False)\n"
   ]
  },
  {
   "cell_type": "code",
   "execution_count": 33,
   "metadata": {},
   "outputs": [],
   "source": [
    "# handle experiment 2 reformat:\n",
    "def unsqueeze_title_abs(row, abs):\n",
    "    split_lst = row[abs].split(\";\", 1)\n",
    "    # row[title], row[abs] = split_lst\n",
    "    return pd.Series({'title': split_lst[0], 'abs': split_lst[1]})\n",
    "\n",
    "files = experiment_data['exp_2']\n",
    "for idx, file in enumerate(files):\n",
    "    df = pd.read_pickle('/'.join([path, file]))\n",
    "    rename_mapping = {\"a_text\": \"a_abstract\", \"b_text\": \"b_abstract\", \"c_text\": \"c_abstract\"}\n",
    "    df.rename(columns=rename_mapping, inplace=True)\n",
    "    df[\"a_title\"] = np.nan\n",
    "    df[\"a_categories\"] = np.nan\n",
    "    df[\"b_title\"] = np.nan\n",
    "    df[\"c_title\"] = np.nan\n",
    "    df[['b_title', 'b_abstract']] = df.apply(partial(unsqueeze_title_abs, abs='b_abstract'), axis=1)\n",
    "    df[['c_title', 'c_abstract']] = df.apply(partial(unsqueeze_title_abs, abs='c_abstract'), axis=1)\n",
    "    df.to_csv(f'data_exp_2_{idx+1}.csv', index=False)\n",
    "\n"
   ]
  },
  {
   "cell_type": "code",
   "execution_count": 81,
   "metadata": {},
   "outputs": [],
   "source": [
    "# handle experiment 3 reformat:\n",
    "\n",
    "def unsqueeze_list(row):\n",
    "    input_text, position = row[\"list\"], int(row[\"list_true\"])\n",
    "    # Define the regex pattern\n",
    "    pattern = r'\\d+\\)\\s*(?P<title>[^;]+?)\\s*; \\s*(?P<abstract>[^;]+?)(?:;|\\.|$)'\n",
    "\n",
    "    # Create the dictionary to store the results\n",
    "    dic = {\"title\": [], \"abstract\": []}\n",
    "\n",
    "    # Use re.finditer to extract all occurrences of the pattern\n",
    "    for match in re.finditer(pattern, input_text):\n",
    "        dic[\"title\"].append(match.group(\"title\").strip())\n",
    "        dic[\"abstract\"].append(match.group(\"abstract\").strip())\n",
    "\n",
    "    return dic\n",
    "\n",
    "\n",
    "\n",
    "files = experiment_data['exp_3']\n",
    "for idx, file in enumerate(files):\n",
    "    df = pd.read_pickle('/'.join([path, file]))\n",
    "    rename_mapping = {\"a_text\": \"start_title\", \"main_text\": \"start_abstract\", \"main_categories\": \"start_categories\", \"target_text\": \"target_abstract\"}\n",
    "    df.rename(columns=rename_mapping, inplace=True)\n",
    "    df[\"target_title\"] = np.nan\n",
    "    # df[\"a_category\"] = np.nan\n",
    "    # df[\"b_title\"] = np.nan\n",
    "    # df[\"c_title\"] = np.nan\n",
    "    \n",
    "    df[['start_title', 'start_abstract']] = df.apply(partial(unsqueeze_title_abs, abs='start_abstract'), axis=1)\n",
    "    df[['target_title', 'target_abstract']] = df.apply(partial(unsqueeze_title_abs, abs='target_abstract'), axis=1)\n",
    "    df[\"list\"] = df.apply(unsqueeze_list, axis=1)\n",
    "\n",
    "    df = df.drop('main_id', axis=1)\n",
    "    df.to_json(f'data_exp_3_{idx+1}.json', indent=2, index=False, orient='records')\n",
    "    # df[['c_title', 'c_abstract']] = df.apply(partial(unsqueeze_title_abs, abs='c_abstract'), axis=1)\n",
    "    # df.to_csv(f'data_exp_2_{idx+1}.csv', index=False)"
   ]
  },
  {
   "cell_type": "code",
   "execution_count": 47,
   "metadata": {},
   "outputs": [
    {
     "name": "stdout",
     "output_type": "stream",
     "text": [
      "{'title': [\"Non-extendablity of Shelukhin's quasimorphism and non-triviality of Reznikov's class\", 'Towards low-dimensionalization of four-dimensional QCD'], 'abstract': ['Shelukhin constructed a quasimorphism on the universal covering of the group of Hamiltonian diffeomorphisms for a general closed symplectic manifold', 'nspired by the one-dimensional color-electric flux-tube in a hadron, we propose a possible way of low-dimensionalization of 4D QCD']}\n"
     ]
    }
   ],
   "source": [
    "import re\n",
    "\n",
    "# Sample input string\n",
    "text = \"1) Non-extendablity of Shelukhin's quasimorphism and non-triviality of Reznikov's class; Shelukhin constructed a quasimorphism on the universal covering of the group of Hamiltonian diffeomorphisms for a general closed symplectic manifold. In the present paper, we prove the non-extendability of that quasimorphism for certain symplectic manifolds, such as a blow-up of torus and the product of a surface ; 2) Towards low-dimensionalization of four-dimensional QCD; nspired by the one-dimensional color-electric flux-tube in a hadron, we propose a possible way of low-dimensionalization of 4D QCD.\"\n",
    "\n",
    "# Define the regex pattern\n",
    "pattern = r'\\d+\\)\\s*(?P<title>[^;]+?)\\s*;\\s*(?P<abstract>[^;]+?)(?:;|\\.|$)'\n",
    "\n",
    "# Create the dictionary to store the results\n",
    "dic = {\"title\": [], \"abstract\": []}\n",
    "\n",
    "# Use re.finditer to extract all occurrences of the pattern\n",
    "for match in re.finditer(pattern, text):\n",
    "    dic[\"title\"].append(match.group(\"title\").strip())\n",
    "    dic[\"abstract\"].append(match.group(\"abstract\").strip())\n",
    "\n",
    "print(dic)"
   ]
  },
  {
   "cell_type": "code",
   "execution_count": 83,
   "metadata": {},
   "outputs": [],
   "source": [
    "from fireworks.client import Fireworks"
   ]
  }
 ],
 "metadata": {
  "kernelspec": {
   "display_name": "base",
   "language": "python",
   "name": "python3"
  },
  "language_info": {
   "codemirror_mode": {
    "name": "ipython",
    "version": 3
   },
   "file_extension": ".py",
   "mimetype": "text/x-python",
   "name": "python",
   "nbconvert_exporter": "python",
   "pygments_lexer": "ipython3",
   "version": "3.9.12"
  }
 },
 "nbformat": 4,
 "nbformat_minor": 2
}
